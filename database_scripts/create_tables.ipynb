{
 "cells": [
  {
   "cell_type": "markdown",
   "id": "0a91834e",
   "metadata": {},
   "source": [
    "---------------------------------------------Installs---------------------------------------------"
   ]
  },
  {
   "cell_type": "code",
   "execution_count": 1,
   "id": "8219abad",
   "metadata": {},
   "outputs": [
    {
     "name": "stdout",
     "output_type": "stream",
     "text": [
      "Requirement already satisfied: psycopg2 in c:\\users\\rcstapleton\\.conda\\envs\\glean_scripts_env\\lib\\site-packages (2.9.9)\n",
      "Note: you may need to restart the kernel to use updated packages.\n"
     ]
    }
   ],
   "source": [
    "pip install psycopg2"
   ]
  },
  {
   "cell_type": "markdown",
   "id": "f2ccbcd0",
   "metadata": {},
   "source": [
    "---------------------------------------------Imports---------------------------------------------"
   ]
  },
  {
   "cell_type": "code",
   "execution_count": 1,
   "id": "fe91c77f",
   "metadata": {},
   "outputs": [],
   "source": [
    "import psycopg2\n",
    "from configparser import ConfigParser"
   ]
  },
  {
   "cell_type": "markdown",
   "id": "bd2ddace",
   "metadata": {},
   "source": [
    "---------------------------------------------Read Database.ini---------------------------------------------"
   ]
  },
  {
   "cell_type": "code",
   "execution_count": 2,
   "id": "f0f3fa69",
   "metadata": {},
   "outputs": [],
   "source": [
    "filename='../database.ini'\n",
    "section='postgresql'\n",
    "parser = ConfigParser()\n",
    "parser.read(filename)\n",
    "config = {}\n",
    "if parser.has_section(section):\n",
    "    params = parser.items(section)\n",
    "    for param in params:\n",
    "        config[param[0]] = param[1]\n",
    "else:\n",
    "    raise Exception(f'Section {section} not found in the {filename} file')"
   ]
  },
  {
   "cell_type": "markdown",
   "id": "64ac19c1",
   "metadata": {},
   "source": [
    "---------------------------------------------Create Location Table---------------------------------------------"
   ]
  },
  {
   "cell_type": "code",
   "execution_count": 16,
   "id": "973ba739",
   "metadata": {},
   "outputs": [
    {
     "name": "stdout",
     "output_type": "stream",
     "text": [
      "Connection successfully\n",
      "Table created successfully!\n"
     ]
    }
   ],
   "source": [
    "try:\n",
    "    connection = psycopg2.connect(**config)\n",
    "    print(\"Connection successfully\")\n",
    "except Exception as e:\n",
    "    print(f\"Error: {e}\")\n",
    "    exit()\n",
    "\n",
    "# Create a cursor\n",
    "cur = connection.cursor()\n",
    "\n",
    "# Create the 'regions' table\n",
    "create_table_query = (\n",
    "    \"\"\"\n",
    "    CREATE TABLE IF NOT EXISTS location (\n",
    "        location_id TEXT PRIMARY KEY,\n",
    "        location_abbreviation TEXT NOT NULL,\n",
    "        location_name TEXT NOT NULL\n",
    "    );\n",
    "    \"\"\")\n",
    "\n",
    "# Execute the query\n",
    "try:\n",
    "    cur.execute(create_table_query)\n",
    "    connection.commit()\n",
    "    print(\"Table created successfully!\")\n",
    "except Exception as e:\n",
    "    print(f\"Error creating table: {e}\")\n",
    "    connection.rollback()\n",
    "\n",
    "# Close the cursor\n",
    "cur.close()\n",
    "connection.close()"
   ]
  },
  {
   "cell_type": "markdown",
   "id": "ac4440eb",
   "metadata": {},
   "source": [
    "---------------------------------------------premature_death Table---------------------------------------------"
   ]
  },
  {
   "cell_type": "code",
   "execution_count": 3,
   "id": "bdeb2b91",
   "metadata": {},
   "outputs": [
    {
     "name": "stdout",
     "output_type": "stream",
     "text": [
      "Connection successfully\n",
      "Table created successfully!\n"
     ]
    }
   ],
   "source": [
    "try:\n",
    "    connection = psycopg2.connect(**config)\n",
    "    print(\"Connection successfully\")\n",
    "except Exception as e:\n",
    "    print(f\"Error: {e}\")\n",
    "    exit()\n",
    "\n",
    "# Create a cursor\n",
    "cur = connection.cursor()\n",
    "\n",
    "# Create the table\n",
    "create_table_query = (\n",
    "    \"\"\"\n",
    "    CREATE TABLE IF NOT EXISTS premature_death_0000 (        \n",
    "        id SERIAL PRIMARY KEY,\n",
    "        location_id TEXT,\n",
    "        year VARCHAR(4) NOT NULL,\n",
    "        premature_death_raw REAL NOT NULL,\n",
    "        FOREIGN KEY (location_id) REFERENCES location (location_id) \n",
    "    );\n",
    "    \"\"\")\n",
    "\n",
    "# Execute the query\n",
    "try:\n",
    "    cur.execute(create_table_query)\n",
    "    connection.commit()\n",
    "    print(\"Table created successfully!\")\n",
    "except Exception as e:\n",
    "    print(f\"Error creating table: {e}\")\n",
    "    connection.rollback()\n",
    "\n",
    "# Close the cursor\n",
    "cur.close()\n",
    "connection.close()"
   ]
  },
  {
   "cell_type": "code",
   "execution_count": 7,
   "id": "38ff28f9",
   "metadata": {},
   "outputs": [],
   "source": [
    "connection.close()"
   ]
  },
  {
   "cell_type": "code",
   "execution_count": null,
   "id": "fd9ea21a",
   "metadata": {},
   "outputs": [],
   "source": []
  }
 ],
 "metadata": {
  "kernelspec": {
   "display_name": "glean_scripts_env",
   "language": "python",
   "name": "glean_scripts_env"
  },
  "language_info": {
   "codemirror_mode": {
    "name": "ipython",
    "version": 3
   },
   "file_extension": ".py",
   "mimetype": "text/x-python",
   "name": "python",
   "nbconvert_exporter": "python",
   "pygments_lexer": "ipython3",
   "version": "3.11.5"
  }
 },
 "nbformat": 4,
 "nbformat_minor": 5
}
