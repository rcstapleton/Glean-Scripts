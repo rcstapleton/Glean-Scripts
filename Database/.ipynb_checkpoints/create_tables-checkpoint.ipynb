{
 "cells": [
  {
   "cell_type": "markdown",
   "id": "0a91834e",
   "metadata": {},
   "source": [
    "---------------------------------------------Installs---------------------------------------------"
   ]
  },
  {
   "cell_type": "code",
   "execution_count": 1,
   "id": "8219abad",
   "metadata": {},
   "outputs": [
    {
     "name": "stdout",
     "output_type": "stream",
     "text": [
      "Requirement already satisfied: psycopg2 in c:\\users\\rcstapleton\\.conda\\envs\\glean_scripts_env\\lib\\site-packages (2.9.9)\n",
      "Note: you may need to restart the kernel to use updated packages.\n"
     ]
    }
   ],
   "source": [
    "pip install psycopg2"
   ]
  },
  {
   "cell_type": "markdown",
   "id": "f2ccbcd0",
   "metadata": {},
   "source": [
    "---------------------------------------------Imports---------------------------------------------"
   ]
  },
  {
   "cell_type": "code",
   "execution_count": 2,
   "id": "fe91c77f",
   "metadata": {},
   "outputs": [],
   "source": [
    "import psycopg2\n",
    "from configparser import ConfigParser"
   ]
  },
  {
   "cell_type": "markdown",
   "id": "bd2ddace",
   "metadata": {},
   "source": [
    "---------------------------------------------Read Database.ini---------------------------------------------"
   ]
  },
  {
   "cell_type": "code",
   "execution_count": 3,
   "id": "f0f3fa69",
   "metadata": {},
   "outputs": [],
   "source": [
    "filename='../database.ini'\n",
    "section='postgresql'\n",
    "parser = ConfigParser()\n",
    "parser.read(filename)\n",
    "config = {}\n",
    "if parser.has_section(section):\n",
    "    params = parser.items(section)\n",
    "    for param in params:\n",
    "        config[param[0]] = param[1]\n",
    "else:\n",
    "    raise Exception(f'Section {section} not found in the {filename} file')"
   ]
  },
  {
   "cell_type": "markdown",
   "id": "c52211de",
   "metadata": {},
   "source": [
    "---------------------------------------------Create Region Table---------------------------------------------"
   ]
  },
  {
   "cell_type": "code",
   "execution_count": 4,
   "id": "f92f68ef",
   "metadata": {},
   "outputs": [
    {
     "name": "stdout",
     "output_type": "stream",
     "text": [
      "Connection successfully\n",
      "Table created successfully!\n"
     ]
    }
   ],
   "source": [
    "try:\n",
    "    connection = psycopg2.connect(**config)\n",
    "    print(\"Connection successfully\")\n",
    "except Exception as e:\n",
    "    print(f\"Error: {e}\")\n",
    "    exit()\n",
    "\n",
    "# Create a cursor\n",
    "cur = connection.cursor()\n",
    "\n",
    "# Create the 'regions' table\n",
    "create_table_query = (\n",
    "    \"\"\"\n",
    "    CREATE TABLE regions (\n",
    "        region_id TEXT PRIMARY KEY,\n",
    "        region_name TEXT NOT NULL,\n",
    "        state_abbreviation TEXT NOT NULL\n",
    "    );\n",
    "    \"\"\")\n",
    "\n",
    "# Execute the query\n",
    "try:\n",
    "    cur.execute(create_table_query)\n",
    "    connection.commit()\n",
    "    print(\"Table created successfully!\")\n",
    "except Exception as e:\n",
    "    print(f\"Error creating table: {e}\")\n",
    "    connection.rollback()\n",
    "\n",
    "# Close the cursor\n",
    "cur.close()\n",
    "connection.close()"
   ]
  },
  {
   "cell_type": "markdown",
   "id": "9c6cd694",
   "metadata": {},
   "source": [
    "---------------------------------------------premature_death Table---------------------------------------------"
   ]
  },
  {
   "cell_type": "code",
   "execution_count": 6,
   "id": "72f5a424",
   "metadata": {},
   "outputs": [
    {
     "name": "stdout",
     "output_type": "stream",
     "text": [
      "Connection successfully\n"
     ]
    }
   ],
   "source": [
    "try:\n",
    "    connection = psycopg2.connect(**config)\n",
    "    print(\"Connection successfully\")\n",
    "except Exception as e:\n",
    "    print(f\"Error: {e}\")\n",
    "    exit()\n",
    "\n",
    "# Create a cursor\n",
    "cur = connection.cursor()\n",
    "\n",
    "# Create the 'regions' table\n",
    "create_table_query = (\n",
    "    \"\"\"\n",
    "    CREATE TABLE premature_death (\n",
    "        region_id TEXT PRIMARY KEY,\n",
    "        year VARCHAR(4) NOT NULL,\n",
    "        premature_death_raw_value REAL,\n",
    "        premature_death_numerator REAL,\n",
    "        premature_death_denominator REAL,\n",
    "        premature_death_CI_low REAL,\n",
    "        premature_death_CI_high REAL,\n",
    "        FOREIGN KEY (region_id) REFERENCES regions (region_id)\n",
    "    );\n",
    "    \"\"\")\n",
    "\n",
    "# Execute the query\n",
    "try:\n",
    "    cur.execute(create_table_query)\n",
    "    connection.commit()\n",
    "    print(\"Table created successfully!\")\n",
    "except Exception as e:\n",
    "    print(f\"Error creating table: {e}\")\n",
    "    connection.rollback()\n",
    "\n",
    "# Close the cursor\n",
    "cur.close()\n",
    "connection.close()"
   ]
  },
  {
   "cell_type": "code",
   "execution_count": 7,
   "id": "2fabb1b3",
   "metadata": {},
   "outputs": [],
   "source": [
    "connection.close()"
   ]
  },
  {
   "cell_type": "code",
   "execution_count": null,
   "id": "cc647281",
   "metadata": {},
   "outputs": [],
   "source": []
  }
 ],
 "metadata": {
  "kernelspec": {
   "display_name": "glean_scripts_env",
   "language": "python",
   "name": "glean_scripts_env"
  },
  "language_info": {
   "codemirror_mode": {
    "name": "ipython",
    "version": 3
   },
   "file_extension": ".py",
   "mimetype": "text/x-python",
   "name": "python",
   "nbconvert_exporter": "python",
   "pygments_lexer": "ipython3",
   "version": "3.11.5"
  }
 },
 "nbformat": 4,
 "nbformat_minor": 5
}
